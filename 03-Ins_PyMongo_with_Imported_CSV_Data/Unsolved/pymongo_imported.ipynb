{
 "cells": [
  {
   "attachments": {},
   "cell_type": "markdown",
   "id": "6607ba1a",
   "metadata": {},
   "source": [
    "# Introduction to Mongo"
   ]
  },
  {
   "attachments": {},
   "cell_type": "markdown",
   "id": "6df4e62d",
   "metadata": {},
   "source": [
    "Import the data first:\n",
    "\n",
    "```shell\n",
    "mongoimport --type csv -d petsitly_marketing -c customer_list --headerline --drop customer_database.csv\n",
    "```"
   ]
  },
  {
   "cell_type": "code",
   "execution_count": 2,
   "id": "1fce4f22",
   "metadata": {},
   "outputs": [],
   "source": [
    "from pymongo import MongoClient\n",
    "from pprint import pprint"
   ]
  },
  {
   "cell_type": "code",
   "execution_count": 3,
   "id": "9dc8826d",
   "metadata": {},
   "outputs": [],
   "source": [
    "# Create an instance of MongoClient\n",
    "mongo = MongoClient(port=27017)\n"
   ]
  },
  {
   "cell_type": "code",
   "execution_count": 4,
   "id": "60ebdfc9",
   "metadata": {},
   "outputs": [
    {
     "name": "stdout",
     "output_type": "stream",
     "text": [
      "['admin', 'classDB', 'config', 'epa', 'fruits_db', 'garden_db', 'local', 'petsitly_marketing']\n"
     ]
    }
   ],
   "source": [
    "# confirm that our new database was created\n",
    "print(mongo.list_database_names())"
   ]
  },
  {
   "cell_type": "code",
   "execution_count": 5,
   "id": "3cab0c81",
   "metadata": {},
   "outputs": [],
   "source": [
    "# assign the database to a variable name\n",
    "db = mongo['petsitly_marketing']"
   ]
  },
  {
   "cell_type": "code",
   "execution_count": 6,
   "id": "3f57b567",
   "metadata": {},
   "outputs": [
    {
     "name": "stdout",
     "output_type": "stream",
     "text": [
      "['customer_list']\n"
     ]
    }
   ],
   "source": [
    "# review the collections in our new database\n",
    "print(db.list_collection_names())"
   ]
  },
  {
   "cell_type": "code",
   "execution_count": 7,
   "id": "6360d848",
   "metadata": {},
   "outputs": [
    {
     "name": "stdout",
     "output_type": "stream",
     "text": [
      "{'2021_Total_Spend': 1483.5,\n",
      " '2021_Visits': 86,\n",
      " 'Address': '096 Jimenez Turnpike Apt. 451',\n",
      " 'Customer_First': 'Leesa',\n",
      " 'Customer_Last': 'White',\n",
      " 'Email': 'kmassey@gmail.com',\n",
      " 'Pet_Type': 'cat',\n",
      " '_id': ObjectId('647a0652adb74e80cd8f9d29')}\n"
     ]
    }
   ],
   "source": [
    "# review a document in the customer_list collection\n",
    "pprint(db.customer_list.find_one())"
   ]
  },
  {
   "cell_type": "code",
   "execution_count": 10,
   "id": "c6d8a4fd",
   "metadata": {},
   "outputs": [],
   "source": [
    "# assign the collection to a variable\n",
    "customer_list = db['customer_list']"
   ]
  },
  {
   "cell_type": "code",
   "execution_count": 11,
   "id": "e6f7a0ee",
   "metadata": {},
   "outputs": [
    {
     "data": {
      "text/plain": [
       "<pymongo.results.InsertOneResult at 0x21cea2d5a80>"
      ]
     },
     "execution_count": 11,
     "metadata": {},
     "output_type": "execute_result"
    }
   ],
   "source": [
    "# insert a new customer\n",
    "new_customer = {'_id':3,'2021_Total_Spend': 2017.75,\n",
    " '2021_Visits': 75,\n",
    " 'Address': '55822 valley field',\n",
    " 'Customer_First': 'Data',\n",
    " 'Customer_Last': 'viz',\n",
    " 'Email': 'dataviz@bootcamp,edu',\n",
    " 'Pet_Type': 'cat',\n",
    " }\n",
    "customer_list.insert_one(new_customer)"
   ]
  },
  {
   "cell_type": "code",
   "execution_count": 13,
   "id": "e526b7c3",
   "metadata": {},
   "outputs": [
    {
     "name": "stdout",
     "output_type": "stream",
     "text": [
      "{'2021_Total_Spend': 2017.75,\n",
      " '2021_Visits': 75,\n",
      " 'Address': '55822 valley field',\n",
      " 'Customer_First': 'Data',\n",
      " 'Customer_Last': 'viz',\n",
      " 'Email': 'dataviz@bootcamp,edu',\n",
      " 'Pet_Type': 'cat',\n",
      " '_id': 3}\n"
     ]
    }
   ],
   "source": [
    "# Filter results by name\n",
    "query = {'Customer_First': 'Data'}\n",
    "results = customer_list.find(query)\n",
    "for result in results:\n",
    "    pprint(result)\n",
    "    "
   ]
  },
  {
   "cell_type": "code",
   "execution_count": 14,
   "id": "b11e18fd",
   "metadata": {},
   "outputs": [],
   "source": [
    "# Find the number of customers with hamsters\n",
    "query = {'pet_type': 'turtle'}\n",
    "results = customer_list.find(query)\n",
    "for result in results:\n",
    "    pprint(result)"
   ]
  },
  {
   "cell_type": "code",
   "execution_count": 15,
   "id": "9113832a",
   "metadata": {},
   "outputs": [],
   "source": [
    "# Delete all the customers who have hamsters\n",
    "customer_list.delete_many(query)\n",
    "results = customer_list.find(query)\n",
    "for result in results:\n",
    "    pprint(result)"
   ]
  },
  {
   "cell_type": "code",
   "execution_count": 16,
   "id": "2f1a4f4f",
   "metadata": {},
   "outputs": [
    {
     "data": {
      "text/plain": [
       "[]"
      ]
     },
     "execution_count": 16,
     "metadata": {},
     "output_type": "execute_result"
    }
   ],
   "source": [
    "# Delete a collection\n",
    "db.drop_collection('customer_list')\n",
    "db.list_collection_names()"
   ]
  },
  {
   "cell_type": "code",
   "execution_count": 13,
   "id": "61fcd315",
   "metadata": {},
   "outputs": [
    {
     "data": {
      "text/plain": [
       "['admin', 'classDB', 'config', 'local']"
      ]
     },
     "execution_count": 13,
     "metadata": {},
     "output_type": "execute_result"
    }
   ],
   "source": [
    "# Delete the database\n"
   ]
  },
  {
   "cell_type": "code",
   "execution_count": null,
   "id": "e1f35bc9",
   "metadata": {},
   "outputs": [],
   "source": []
  }
 ],
 "metadata": {
  "kernelspec": {
   "display_name": "Python (pythondata)",
   "language": "python",
   "name": "pythondata"
  },
  "language_info": {
   "codemirror_mode": {
    "name": "ipython",
    "version": 3
   },
   "file_extension": ".py",
   "mimetype": "text/x-python",
   "name": "python",
   "nbconvert_exporter": "python",
   "pygments_lexer": "ipython3",
   "version": "3.11.3"
  }
 },
 "nbformat": 4,
 "nbformat_minor": 5
}
