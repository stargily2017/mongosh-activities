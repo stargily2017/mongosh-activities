{
 "cells": [
  {
   "cell_type": "code",
   "execution_count": 10,
   "metadata": {},
   "outputs": [],
   "source": [
    "# Module used to connect Python with MongoDB\n",
    "from pymongo import MongoClient\n",
    "import datetime\n",
    "from pprint import pprint"
   ]
  },
  {
   "cell_type": "code",
   "execution_count": 11,
   "metadata": {},
   "outputs": [],
   "source": [
    "# The default port used by MongoDB is 27017\n",
    "# https://docs.mongodb.com/manual/reference/default-mongodb-port/\n",
    "mongo = MongoClient(port=27017)\n",
    "\n",
    "# Define the 'classDB' database in Mongo\n",
    "db = mongo.classDB"
   ]
  },
  {
   "cell_type": "code",
   "execution_count": 12,
   "metadata": {},
   "outputs": [
    {
     "name": "stdout",
     "output_type": "stream",
     "text": [
      "{'_id': ObjectId('647959e4f761719f2b7c5492'),\n",
      " 'favorite_python_library': 'matplotlib',\n",
      " 'hobbies': ['Running', 'Stargazing', 'Reading'],\n",
      " 'name': 'Ahmed',\n",
      " 'row': 3}\n"
     ]
    }
   ],
   "source": [
    "# Insert a document into the 'classroom' collection\n",
    "db.classroom.insert_one({\n",
    "    'name':'Ahmed',\n",
    "    'row': 3,\n",
    "    'favorite_python_library':'matplotlib',\n",
    "    'hobbies': ['Running', 'Stargazing', 'Reading']\n",
    "        \n",
    "})\n",
    "# Query the classroom collection.\n",
    "classroom = db.classroom.find()\n",
    "\n",
    "# See the data in collection\n",
    "for student in classroom:\n",
    "    pprint(student)\n",
    "    "
   ]
  },
  {
   "cell_type": "code",
   "execution_count": 13,
   "metadata": {},
   "outputs": [
    {
     "name": "stdout",
     "output_type": "stream",
     "text": [
      "{'_id': ObjectId('647959e4f761719f2b7c5492'),\n",
      " 'favorite_python_library': 'matplotlib',\n",
      " 'hobbies': ['Running', 'Stargazing', 'Reading'],\n",
      " 'name': 'Ahmed',\n",
      " 'row': 4}\n"
     ]
    }
   ],
   "source": [
    "# Update a document\n",
    "db.classroom.update_one({\n",
    "    'name':'Ahmed'}, {'$set': {'row':4}\n",
    "    \n",
    "})\n",
    "\n",
    "# Query the classroom collection\n",
    "classroom = db.classroom.find()\n",
    "\n",
    "# See the change in collection.\n",
    "for student in classroom:\n",
    "    pprint(student)"
   ]
  },
  {
   "cell_type": "code",
   "execution_count": 14,
   "metadata": {},
   "outputs": [
    {
     "name": "stdout",
     "output_type": "stream",
     "text": [
      "{'_id': ObjectId('647959e4f761719f2b7c5492'),\n",
      " 'favorite_python_library': 'matplotlib',\n",
      " 'hobbies': ['Running', 'Stargazing', 'Reading', 'listening music'],\n",
      " 'name': 'Ahmed',\n",
      " 'row': 4}\n"
     ]
    }
   ],
   "source": [
    "# Add an item to a document array\n",
    "db.classroom.update_one({\n",
    "    'name':'Ahmed'}, {'$push': {'hobbies':'listening music'}\n",
    "    \n",
    "})\n",
    "\n",
    "# Query the classroom collection.\n",
    "classroom = db.classroom.find()\n",
    "\n",
    "# See the change in collection.\n",
    "for student in classroom:\n",
    "    pprint(student)"
   ]
  },
  {
   "cell_type": "code",
   "execution_count": 17,
   "metadata": {},
   "outputs": [],
   "source": [
    "# Delete a field from a document\n",
    "#db.classroom.delete_one({'name':'Ahmed'},\n",
    "                       #{'$unset':{'row':''}}) \n",
    "                        \n",
    "\n",
    "# Query the classroom collection\n",
    "#classroom = db.classroom.find()\n",
    "\n",
    "# See the change in collection.\n",
    "#for student in classroom:\n",
    "    #pprint(student)"
   ]
  },
  {
   "cell_type": "code",
   "execution_count": 16,
   "metadata": {},
   "outputs": [],
   "source": [
    "# Delete a document from a collection\n",
    "db.classroom.delete_one({'name':'Ahmed'})\n",
    "\n",
    "# Query the classroom collection\n",
    "classroom = db.classroom.find()\n",
    "\n",
    "# See the change in collection.\n",
    "for student in classroom:\n",
    "    pprint(student)"
   ]
  },
  {
   "cell_type": "code",
   "execution_count": null,
   "metadata": {},
   "outputs": [],
   "source": []
  }
 ],
 "metadata": {
  "kernelspec": {
   "display_name": "Python (pythondata)",
   "language": "python",
   "name": "pythondata"
  },
  "language_info": {
   "codemirror_mode": {
    "name": "ipython",
    "version": 3
   },
   "file_extension": ".py",
   "mimetype": "text/x-python",
   "name": "python",
   "nbconvert_exporter": "python",
   "pygments_lexer": "ipython3",
   "version": "3.11.3"
  }
 },
 "nbformat": 4,
 "nbformat_minor": 2
}
