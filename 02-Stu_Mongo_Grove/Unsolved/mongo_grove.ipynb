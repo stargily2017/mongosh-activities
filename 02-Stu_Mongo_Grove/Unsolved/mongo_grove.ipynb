{
 "cells": [
  {
   "cell_type": "code",
   "execution_count": 1,
   "metadata": {},
   "outputs": [],
   "source": [
    "# Import dependencies\n",
    "from pymongo import MongoClient\n",
    "import datetime\n",
    "from pprint import pprint"
   ]
  },
  {
   "cell_type": "code",
   "execution_count": 2,
   "metadata": {},
   "outputs": [],
   "source": [
    "# The default port used by MongoDB is 27017\n",
    "# https://docs.mongodb.com/manual/reference/default-mongodb-port/\n",
    "mongo = MongoClient(port=27017)\n",
    "\n",
    "# Declare the database\n",
    "\n",
    "db = mongo.fruits_db\n",
    "# Declare the collection\n",
    "fruits = db.fruits"
   ]
  },
  {
   "cell_type": "code",
   "execution_count": 3,
   "metadata": {},
   "outputs": [
    {
     "data": {
      "text/plain": [
       "<pymongo.results.InsertOneResult at 0x19d93678340>"
      ]
     },
     "execution_count": 3,
     "metadata": {},
     "output_type": "execute_result"
    }
   ],
   "source": [
    "# A dictionary that represents the document to be inserted\n",
    "post = {\n",
    "    'vendor':'fruit star',\n",
    "    'fruit':'raspberry',\n",
    "    'case_quantity':21,\n",
    "    'ripness':2,\n",
    "    'date': datetime.datetime.utcnow()\n",
    "    \n",
    "   }\n",
    "\n",
    "# Pass the dictionary into `insert_one` to insert the document into the database\n",
    "# The database and collection, if they don't already exist, will be created at this point.\n",
    "fruits.insert_one(post)"
   ]
  },
  {
   "cell_type": "code",
   "execution_count": 5,
   "metadata": {},
   "outputs": [
    {
     "data": {
      "text/plain": [
       "<pymongo.results.InsertOneResult at 0x19d932374c0>"
      ]
     },
     "execution_count": 5,
     "metadata": {},
     "output_type": "execute_result"
    }
   ],
   "source": [
    "# Ask the user for input. Store information into variables.\n",
    "vendor = input(\"What is the vendor name?\")\n",
    "fruit = input('What is the type of fruit?')\n",
    "case_quantity = ('How many cases were received?')\n",
    "ripness = ('What is the ripeness of fruit (1 is unripe; 2 is ripe, 3 is over-ripe)?')\n",
    "\n",
    "# A dictionary that will become a MongoDB document\n",
    "post = {\n",
    "    'vendor':vendor,\n",
    "    'fruit':fruit,\n",
    "    'case_quantity':case_quantity,\n",
    "    'ripness':ripness,\n",
    "    'date': datetime.datetime.utcnow()\n",
    "    \n",
    "   }\n",
    "\n",
    "# Insert document into collection\n",
    "fruits.insert_one(post)"
   ]
  },
  {
   "cell_type": "code",
   "execution_count": 6,
   "metadata": {},
   "outputs": [
    {
     "name": "stdout",
     "output_type": "stream",
     "text": [
      "{'_id': ObjectId('64795b728471a204bee96074'),\n",
      " 'case_quantity': 21,\n",
      " 'date': datetime.datetime(2023, 6, 2, 3, 1, 6, 172000),\n",
      " 'fruit': 'raspberry',\n",
      " 'ripness': 2,\n",
      " 'vendor': 'fruit star'}\n",
      "{'_id': ObjectId('6479d6cf1213ac78a9c7d6b4'),\n",
      " 'case_quantity': 21,\n",
      " 'date': datetime.datetime(2023, 6, 2, 11, 47, 27, 772000),\n",
      " 'fruit': 'raspberry',\n",
      " 'ripness': 2,\n",
      " 'vendor': 'fruit star'}\n",
      "{'_id': ObjectId('6479d6f31213ac78a9c7d6b5'),\n",
      " 'case_quantity': 'How many cases were received?',\n",
      " 'date': datetime.datetime(2023, 6, 2, 11, 48, 3, 613000),\n",
      " 'fruit': '',\n",
      " 'ripness': 'What is the ripeness of fruit (1 is unripe; 2 is ripe, 3 is '\n",
      "            'over-ripe)?',\n",
      " 'vendor': ''}\n"
     ]
    }
   ],
   "source": [
    "# Verify results:\n",
    "results = fruits.find()\n",
    "for result in results:\n",
    "    pprint(result)"
   ]
  },
  {
   "cell_type": "code",
   "execution_count": null,
   "metadata": {},
   "outputs": [],
   "source": []
  }
 ],
 "metadata": {
  "kernelspec": {
   "display_name": "Python (pythondata)",
   "language": "python",
   "name": "pythondata"
  },
  "language_info": {
   "codemirror_mode": {
    "name": "ipython",
    "version": 3
   },
   "file_extension": ".py",
   "mimetype": "text/x-python",
   "name": "python",
   "nbconvert_exporter": "python",
   "pygments_lexer": "ipython3",
   "version": "3.11.3"
  }
 },
 "nbformat": 4,
 "nbformat_minor": 2
}
