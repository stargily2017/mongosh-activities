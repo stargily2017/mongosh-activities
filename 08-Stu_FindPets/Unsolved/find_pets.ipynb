{
 "cells": [
  {
   "cell_type": "code",
   "execution_count": 8,
   "id": "932766e9",
   "metadata": {},
   "outputs": [],
   "source": [
    "# Import dependencies\n",
    "from pymongo import MongoClient\n",
    "from pprint import pprint"
   ]
  },
  {
   "cell_type": "code",
   "execution_count": 9,
   "id": "9e27c2de",
   "metadata": {},
   "outputs": [],
   "source": [
    "# Create an instance of MongoClient\n",
    "mongo = MongoClient(port=27017)"
   ]
  },
  {
   "cell_type": "code",
   "execution_count": 10,
   "id": "7fcd88f2",
   "metadata": {},
   "outputs": [
    {
     "name": "stdout",
     "output_type": "stream",
     "text": [
      "['admin', 'classDB', 'config', 'epa', 'fruits_db', 'garden_db', 'local', 'petsitly_marketing']\n"
     ]
    }
   ],
   "source": [
    "# confirm that the \"petsitly_marketing\" database is in MongoDB\n",
    "print(mongo.list_database_names())"
   ]
  },
  {
   "cell_type": "code",
   "execution_count": 11,
   "id": "d40c1869",
   "metadata": {},
   "outputs": [],
   "source": [
    "# assign the database to a variable name\n",
    "db = mongo['petsitly_marketing']"
   ]
  },
  {
   "cell_type": "code",
   "execution_count": 12,
   "id": "c9f586b6",
   "metadata": {},
   "outputs": [
    {
     "name": "stdout",
     "output_type": "stream",
     "text": [
      "['customer_list']\n"
     ]
    }
   ],
   "source": [
    "# review the collections in our new database\n",
    "print(db.list_collection_names())"
   ]
  },
  {
   "cell_type": "code",
   "execution_count": 13,
   "id": "41bd682a",
   "metadata": {},
   "outputs": [],
   "source": [
    "# assign the collection to a variable\n",
    "customers = db['customer_list']"
   ]
  },
  {
   "cell_type": "code",
   "execution_count": 15,
   "id": "bdd6a32b",
   "metadata": {},
   "outputs": [
    {
     "name": "stdout",
     "output_type": "stream",
     "text": [
      "{'2021_Total_Spend': 1638.75,\n",
      " '2021_Visits': 95,\n",
      " 'Address': '5221 Christopher Landing Suite 898',\n",
      " 'Customer_First': 'Malvin',\n",
      " 'Customer_Last': 'Keeling',\n",
      " 'Email': 'udavis@hotmail.com',\n",
      " 'Pet_Type': 'fish',\n",
      " '_id': ObjectId('647e1b0974187e8e783e0248')}\n",
      "{'2021_Total_Spend': 1483.5,\n",
      " '2021_Visits': 86,\n",
      " 'Address': '096 Jimenez Turnpike Apt. 451',\n",
      " 'Customer_First': 'Leesa',\n",
      " 'Customer_Last': 'White',\n",
      " 'Email': 'kmassey@gmail.com',\n",
      " 'Pet_Type': 'cat',\n",
      " '_id': ObjectId('647e1b0974187e8e783e0249')}\n"
     ]
    }
   ],
   "source": [
    "# Create a query that finds the customers who had over 50 visits in 2021\n",
    "query = {'2021_Visits': {'$gt': 50}}\n",
    "\n",
    "# Capture the results to a variable\n",
    "results = customers.find(query)\n",
    "\n",
    "# Pretty print the first two results\n",
    "for k in range(2):\n",
    "    pprint(results[k])\n"
   ]
  },
  {
   "cell_type": "code",
   "execution_count": 16,
   "id": "77fa0f78",
   "metadata": {},
   "outputs": [
    {
     "name": "stdout",
     "output_type": "stream",
     "text": [
      "{'2021_Total_Spend': 172.5,\n",
      " '2021_Visits': 10,\n",
      " 'Address': '68369 Harris Motorway Apt. 444',\n",
      " 'Customer_First': 'Braulio',\n",
      " 'Customer_Last': 'Daniel',\n",
      " 'Email': 'georgedavid@yahoo.com',\n",
      " 'Pet_Type': 'dog',\n",
      " '_id': ObjectId('647e1b0974187e8e783e0252')}\n",
      "{'2021_Total_Spend': 224.25,\n",
      " '2021_Visits': 13,\n",
      " 'Address': '8959 Juan Courts',\n",
      " 'Customer_First': 'Terrence',\n",
      " 'Customer_Last': 'Trantow',\n",
      " 'Email': 'ujohnson@hotmail.com',\n",
      " 'Pet_Type': 'fish',\n",
      " '_id': ObjectId('647e1b0974187e8e783e0254')}\n"
     ]
    }
   ],
   "source": [
    "# Create a query that finds the customers who spent $250 or less in 2021\n",
    "\n",
    "query = {'2021_Total_Spend': {'$lte': 250}}\n",
    "\n",
    "# Capture the results to a variable\n",
    "results1 = customers.find(query)\n",
    "\n",
    "# Pretty print the first two results\n",
    "for i in range(2):\n",
    "    pprint(results1[i])\n",
    "\n",
    "\n"
   ]
  },
  {
   "cell_type": "code",
   "execution_count": 18,
   "id": "79f88a50",
   "metadata": {},
   "outputs": [
    {
     "name": "stdout",
     "output_type": "stream",
     "text": [
      "{'2021_Total_Spend': 1638.75,\n",
      " '2021_Visits': 95,\n",
      " 'Address': '5221 Christopher Landing Suite 898',\n",
      " 'Customer_First': 'Malvin',\n",
      " 'Customer_Last': 'Keeling',\n",
      " 'Email': 'udavis@hotmail.com',\n",
      " 'Pet_Type': 'fish',\n",
      " '_id': ObjectId('647e1b0974187e8e783e0248')}\n",
      "{'2021_Total_Spend': 448.5,\n",
      " '2021_Visits': 26,\n",
      " 'Address': '5359 Wilson Trafficway Suite 562',\n",
      " 'Customer_First': 'Grady',\n",
      " 'Customer_Last': 'Wyman',\n",
      " 'Email': 'garciaangela@yahoo.com',\n",
      " 'Pet_Type': 'cat',\n",
      " '_id': ObjectId('647e1b0974187e8e783e024a')}\n",
      "{'2021_Total_Spend': 862.5,\n",
      " '2021_Visits': 50,\n",
      " 'Address': '827 Juarez Radial Suite 343',\n",
      " 'Customer_First': 'Dora',\n",
      " 'Customer_Last': 'Walter',\n",
      " 'Email': 'kristine10@gmail.com',\n",
      " 'Pet_Type': 'turtle',\n",
      " '_id': ObjectId('647e1b0974187e8e783e0253')}\n"
     ]
    }
   ],
   "source": [
    "# Create a query that finds the customer(s) who live in an apartment with \"Suite\" in the address\n",
    "query = {'Address': {'$regex': \"Suite\"}}\n",
    "\n",
    "# Capture the results to a variable\n",
    "results11 = customers.find(query)\n",
    "\n",
    "# Pretty print the first two results\n",
    "for j in range(3):\n",
    "    pprint(results11[j])\n",
    "\n",
    "\n"
   ]
  },
  {
   "cell_type": "code",
   "execution_count": 19,
   "id": "50443591",
   "metadata": {},
   "outputs": [
    {
     "name": "stdout",
     "output_type": "stream",
     "text": [
      "{'2021_Total_Spend': 1638.75,\n",
      " '2021_Visits': 95,\n",
      " 'Address': '5221 Christopher Landing Suite 898',\n",
      " 'Customer_First': 'Malvin',\n",
      " 'Customer_Last': 'Keeling',\n",
      " 'Email': 'udavis@hotmail.com',\n",
      " 'Pet_Type': 'fish',\n",
      " '_id': ObjectId('647e1b0974187e8e783e0248')}\n",
      "{'2021_Total_Spend': 448.5,\n",
      " '2021_Visits': 26,\n",
      " 'Address': '34500 Acevedo Plains',\n",
      " 'Customer_First': 'Consuela',\n",
      " 'Customer_Last': 'Kunze',\n",
      " 'Email': 'ycruz@gmail.com',\n",
      " 'Pet_Type': 'turtle',\n",
      " '_id': ObjectId('647e1b0974187e8e783e0250')}\n",
      "{'2021_Total_Spend': 862.5,\n",
      " '2021_Visits': 50,\n",
      " 'Address': '827 Juarez Radial Suite 343',\n",
      " 'Customer_First': 'Dora',\n",
      " 'Customer_Last': 'Walter',\n",
      " 'Email': 'kristine10@gmail.com',\n",
      " 'Pet_Type': 'turtle',\n",
      " '_id': ObjectId('647e1b0974187e8e783e0253')}\n"
     ]
    }
   ],
   "source": [
    "# Create a query that finds the customers who have turtles or fish\n",
    "query = {'Pet_Type': {'$in': ['turtle','fish']}}\n",
    "\n",
    "# Capture the results to a variable\n",
    "result = customers.find(query)\n",
    "\n",
    "# Pretty print the first two results\n",
    "for j in range(3):\n",
    "    pprint(result[j])\n",
    "\n",
    "\n"
   ]
  },
  {
   "cell_type": "code",
   "execution_count": null,
   "id": "fcb5f9b3",
   "metadata": {},
   "outputs": [],
   "source": []
  }
 ],
 "metadata": {
  "kernelspec": {
   "display_name": "Python (pythondata)",
   "language": "python",
   "name": "pythondata"
  },
  "language_info": {
   "codemirror_mode": {
    "name": "ipython",
    "version": 3
   },
   "file_extension": ".py",
   "mimetype": "text/x-python",
   "name": "python",
   "nbconvert_exporter": "python",
   "pygments_lexer": "ipython3",
   "version": "3.11.3"
  }
 },
 "nbformat": 4,
 "nbformat_minor": 5
}
