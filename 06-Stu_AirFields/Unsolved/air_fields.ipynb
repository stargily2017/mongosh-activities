{
 "cells": [
  {
   "cell_type": "code",
   "execution_count": 1,
   "id": "6e9ea157",
   "metadata": {},
   "outputs": [],
   "source": [
    "# Import dependencies\n",
    "from pymongo import MongoClient\n",
    "from pprint import pprint"
   ]
  },
  {
   "cell_type": "code",
   "execution_count": 2,
   "id": "29c1d434",
   "metadata": {},
   "outputs": [],
   "source": [
    "# Create an instance of MongoClient\n",
    "mongo = MongoClient(port=27017)"
   ]
  },
  {
   "cell_type": "code",
   "execution_count": 3,
   "id": "000d795b",
   "metadata": {},
   "outputs": [
    {
     "name": "stdout",
     "output_type": "stream",
     "text": [
      "['admin', 'classDB', 'config', 'epa', 'fruits_db', 'garden_db', 'local', 'petsitly_marketing']\n"
     ]
    }
   ],
   "source": [
    "# confirm that the \"epa\" database is in MongoDB\n",
    "print(mongo.list_database_names())"
   ]
  },
  {
   "cell_type": "code",
   "execution_count": 4,
   "id": "a0c622de",
   "metadata": {},
   "outputs": [],
   "source": [
    "# assign the database to a variable name\n",
    "db = mongo['epa']"
   ]
  },
  {
   "cell_type": "code",
   "execution_count": 5,
   "id": "dc4494f0",
   "metadata": {},
   "outputs": [
    {
     "name": "stdout",
     "output_type": "stream",
     "text": [
      "['annual_aqi_by_county', 'ohio_daily_records', 'ohio_air']\n"
     ]
    }
   ],
   "source": [
    "# review the collections in our database\n",
    "print(db.list_collection_names())"
   ]
  },
  {
   "cell_type": "code",
   "execution_count": 6,
   "id": "b40161a9",
   "metadata": {},
   "outputs": [],
   "source": [
    "# assign each collection to a variable\n",
    "ohio_daily_records = db['ohio_daily_records']\n",
    "ohio_air = db['ohio_air']\n",
    "annual_aqi_by_county = db['annual_aqi_by_county']"
   ]
  },
  {
   "cell_type": "code",
   "execution_count": 7,
   "id": "89e3baeb",
   "metadata": {},
   "outputs": [
    {
     "data": {
      "text/plain": [
       "647"
      ]
     },
     "execution_count": 7,
     "metadata": {},
     "output_type": "execute_result"
    }
   ],
   "source": [
    "# Display the total number of documents in the annual_aqi_by_county collection\n",
    "\n",
    "annual_aqi_by_county.count_documents({})\n"
   ]
  },
  {
   "cell_type": "code",
   "execution_count": 10,
   "id": "af72a285",
   "metadata": {},
   "outputs": [
    {
     "data": {
      "text/plain": [
       "9091"
      ]
     },
     "execution_count": 10,
     "metadata": {},
     "output_type": "execute_result"
    }
   ],
   "source": [
    "ohio_air.count_documents({})"
   ]
  },
  {
   "cell_type": "code",
   "execution_count": 12,
   "id": "be065388",
   "metadata": {},
   "outputs": [
    {
     "name": "stdout",
     "output_type": "stream",
     "text": [
      "number of documents in results: 6764\n"
     ]
    }
   ],
   "source": [
    "# Create a query that finds the documents that have a \"parameter\" of \"Sulfur dioxide\" in the ohio_air collection\n",
    "query = {'parameter': 'Sulfur dioxide'}\n",
    "\n",
    "# Print the number of results\n",
    "print(\"number of documents in results:\",ohio_air.count_documents(query))"
   ]
  },
  {
   "cell_type": "code",
   "execution_count": 14,
   "id": "351c8f8e",
   "metadata": {},
   "outputs": [
    {
     "name": "stdout",
     "output_type": "stream",
     "text": [
      "{'_id': ObjectId('647b40a3c7dbe0cf2c3aeda2'),\n",
      " 'aqi': 0,\n",
      " 'arithmetic_mean': 0.0,\n",
      " 'cbsa': 'Cleveland-Elyria, OH',\n",
      " 'cbsa_code': '17460',\n",
      " 'city': 'Newburgh Heights',\n",
      " 'county': 'Cuyahoga',\n",
      " 'county_code': '035',\n",
      " 'date_local': '2022-01-01',\n",
      " 'date_of_last_change': '2022-09-19',\n",
      " 'datum': 'NAD83',\n",
      " 'event_type': 'No Events',\n",
      " 'first_max_hour': 0,\n",
      " 'first_max_value': 0.0,\n",
      " 'latitude': 41.446624,\n",
      " 'local_site_name': 'Harvard Yards',\n",
      " 'longitude': -81.662356,\n",
      " 'method': 'Instrumental - Ecotech Serinus 50',\n",
      " 'method_code': '188',\n",
      " 'observation_count': 24,\n",
      " 'observation_percent': 100.0,\n",
      " 'parameter': 'Sulfur dioxide',\n",
      " 'parameter_code': '42401',\n",
      " 'poc': 1,\n",
      " 'pollutant_standard': 'SO2 Annual 1971',\n",
      " 'sample_duration': '1 HOUR',\n",
      " 'sample_duration_code': '1',\n",
      " 'site_address': '4600 HARVARD AVE.',\n",
      " 'site_number': '0065',\n",
      " 'state': 'Ohio',\n",
      " 'state_code': '39',\n",
      " 'units_of_measure': 'Parts per billion',\n",
      " 'validity_indicator': 'Y'}\n"
     ]
    }
   ],
   "source": [
    "# Pretty print just the first result from the Sulfur dioxide query using list indexing\n",
    "results = ohio_air.find(query)\n",
    "pprint(results[0])"
   ]
  },
  {
   "cell_type": "code",
   "execution_count": 16,
   "id": "23666c0e",
   "metadata": {},
   "outputs": [
    {
     "name": "stdout",
     "output_type": "stream",
     "text": [
      "{'_id': ObjectId('647b40a3c7dbe0cf2c3aeda2'),\n",
      " 'city': 'Newburgh Heights',\n",
      " 'county': 'Cuyahoga',\n",
      " 'date_local': '2022-01-01',\n",
      " 'local_site_name': 'Harvard Yards',\n",
      " 'observation_count': 24,\n",
      " 'parameter': 'Sulfur dioxide',\n",
      " 'site_address': '4600 HARVARD AVE.',\n",
      " 'units_of_measure': 'Parts per billion'}\n",
      "{'_id': ObjectId('647b40a3c7dbe0cf2c3aeda3'),\n",
      " 'city': 'Newburgh Heights',\n",
      " 'county': 'Cuyahoga',\n",
      " 'date_local': '2022-01-01',\n",
      " 'local_site_name': 'Harvard Yards',\n",
      " 'observation_count': 24,\n",
      " 'parameter': 'Sulfur dioxide',\n",
      " 'site_address': '4600 HARVARD AVE.',\n",
      " 'units_of_measure': 'Parts per billion'}\n"
     ]
    }
   ],
   "source": [
    "# Select only the 'parameter', 'units_of_measure', 'observation_count', 'date_local', 'local_site_name', \n",
    "# 'site_address', 'city', and 'county' fields from the ohio_air collection\n",
    "fields = {'parameter':1, 'units_of_measure':1,'observation_count':1,'date_local':1,'local_site_name':1,'site_address':1,\n",
    "         'city':1,'county':1 }\n",
    "\n",
    "# Capture the results to a variable\n",
    "results = ohio_air.find({}, fields)\n",
    "\n",
    "# Pretty print the first two results\n",
    "for i in range(2):\n",
    "    pprint(results[i])"
   ]
  },
  {
   "cell_type": "code",
   "execution_count": 17,
   "id": "690c6101",
   "metadata": {},
   "outputs": [
    {
     "name": "stdout",
     "output_type": "stream",
     "text": [
      "{'_id': ObjectId('647b40a3c7dbe0cf2c3aeda2'),\n",
      " 'city': 'Newburgh Heights',\n",
      " 'county': 'Cuyahoga',\n",
      " 'date_local': '2022-01-01',\n",
      " 'local_site_name': 'Harvard Yards',\n",
      " 'observation_count': 24,\n",
      " 'parameter': 'Sulfur dioxide',\n",
      " 'site_address': '4600 HARVARD AVE.',\n",
      " 'units_of_measure': 'Parts per billion'}\n",
      "{'_id': ObjectId('647b40a3c7dbe0cf2c3aeda3'),\n",
      " 'city': 'Newburgh Heights',\n",
      " 'county': 'Cuyahoga',\n",
      " 'date_local': '2022-01-01',\n",
      " 'local_site_name': 'Harvard Yards',\n",
      " 'observation_count': 24,\n",
      " 'parameter': 'Sulfur dioxide',\n",
      " 'site_address': '4600 HARVARD AVE.',\n",
      " 'units_of_measure': 'Parts per billion'}\n"
     ]
    }
   ],
   "source": [
    "# Select every field from the ohio_daily_records collection except the \"COUNTY_CODE\" and \"STATE_CODE\" fields\n",
    "query ={}\n",
    "fields = {'COUNTY_CODE':0, 'STATE_CODE':0}\n",
    "# Capture the results to a variable\n",
    "\n",
    "result = ohio_daily_records.find(query, fields)\n",
    "# Pretty print the first two results\n",
    "for i in range(2):\n",
    "    pprint(results[i])"
   ]
  },
  {
   "cell_type": "code",
   "execution_count": 18,
   "id": "3a36becf",
   "metadata": {},
   "outputs": [
    {
     "data": {
      "text/plain": [
       "<pymongo.results.UpdateResult at 0x1aadfb07c00>"
      ]
     },
     "execution_count": 18,
     "metadata": {},
     "output_type": "execute_result"
    }
   ],
   "source": [
    "# Change the data type from String to Double for CO.PERCENT_COMPLETE \n",
    "# and from String to Int for CO.DAILY_AQI_VALUE\n",
    "# in the ohio_daily_records collection\n",
    "ohio_daily_records.update_many({}, [ {'$set': {\"CO.PERCENT_COMPLETE\" : {'$toDouble': \"$CO.PERCENT_COMPLETE \"}, \n",
    "                                               \"CO.DAILY_AQI_VALUE\": {'$toInt': \"$CO.DAILY_AQI_VALUE\"}}} ])"
   ]
  },
  {
   "cell_type": "code",
   "execution_count": 19,
   "id": "5f35b6a2",
   "metadata": {},
   "outputs": [
    {
     "name": "stdout",
     "output_type": "stream",
     "text": [
      "{'CBSA_NAME': 'Cleveland-Elyria, OH',\n",
      " 'CO': {'AQS_PARAMETER_CODE': '42101',\n",
      "        'AQS_PARAMETER_DESC': 'Carbon monoxide',\n",
      "        'DAILY_AQI_VALUE': 3,\n",
      "        'DAILY_OBS_COUNT': 24,\n",
      "        'Daily Max 8-hour CO Concentration': 0.3,\n",
      "        'PERCENT_COMPLETE': None,\n",
      "        'UNITS': 'ppm'},\n",
      " 'COUNTY': 'Cuyahoga',\n",
      " 'Date': '01/02/2022',\n",
      " 'SO2': {'AQS_PARAMETER_CODE': '42401',\n",
      "         'AQS_PARAMETER_DESC': 'Sulfur dioxide',\n",
      "         'DAILY_AQI_VALUE': 0,\n",
      "         'DAILY_OBS_COUNT': 23,\n",
      "         'Daily Max 1-hour SO2 Concentration': 0.0,\n",
      "         'PERCENT_COMPLETE': 96.0,\n",
      "         'UNITS': 'ppb'},\n",
      " 'Site Name': 'GT Craig NCore',\n",
      " '_id': ObjectId('647b4096c638df2447184a04')}\n",
      "{'CBSA_NAME': 'Cleveland-Elyria, OH',\n",
      " 'CO': {'AQS_PARAMETER_CODE': '42101',\n",
      "        'AQS_PARAMETER_DESC': 'Carbon monoxide',\n",
      "        'DAILY_AQI_VALUE': 3,\n",
      "        'DAILY_OBS_COUNT': 18,\n",
      "        'Daily Max 8-hour CO Concentration': 0.3,\n",
      "        'PERCENT_COMPLETE': None,\n",
      "        'UNITS': 'ppm'},\n",
      " 'COUNTY': 'Cuyahoga',\n",
      " 'Date': '01/01/2022',\n",
      " 'SO2': {'AQS_PARAMETER_CODE': '42401',\n",
      "         'AQS_PARAMETER_DESC': 'Sulfur dioxide',\n",
      "         'DAILY_AQI_VALUE': 0,\n",
      "         'DAILY_OBS_COUNT': 23,\n",
      "         'Daily Max 1-hour SO2 Concentration': 0.0,\n",
      "         'PERCENT_COMPLETE': 96.0,\n",
      "         'UNITS': 'ppb'},\n",
      " 'Site Name': 'GT Craig NCore',\n",
      " '_id': ObjectId('647b4096c638df2447184a05')}\n"
     ]
    }
   ],
   "source": [
    "# Create a query that finds the documents in the ohio_daily_records collection \n",
    "# where CO.UNITS matches \"ppm\" and NO2.UNITS matches \"ppb\", and \n",
    "# select only the following fields: \"CBSA_NAME\", \"COUNTY\", \"Site Name\", \"Date\", \"CO\", \"NO2\", and \"SO2\". \n",
    "query = {'CO.UNITS': 'ppm', 'NO2.UNITS': 'ppb'}\n",
    "\n",
    "# Capture the results to a variable\n",
    "fields = {'CBSA_NAME':1, 'COUNTY':1, 'Site Name':1, 'Date':1,'CO':1, 'NO2\"':1, 'SO2':1}\n",
    "\n",
    "# Pretty print the first two results\n",
    "result1 = ohio_daily_records.find(query, fields)\n",
    "# Pretty print the first two results\n",
    "for j in range(2):\n",
    "    pprint(result1[j])"
   ]
  },
  {
   "cell_type": "code",
   "execution_count": 20,
   "id": "153ab633",
   "metadata": {},
   "outputs": [
    {
     "name": "stdout",
     "output_type": "stream",
     "text": [
      "{'County': 'Allen',\n",
      " 'Days with AQI': 90,\n",
      " 'Max AQI': 93,\n",
      " 'State': 'Ohio',\n",
      " '_id': ObjectId('647b4086535d0c5fcf556ee2')}\n",
      "{'County': 'Athens',\n",
      " 'Days with AQI': 29,\n",
      " 'Max AQI': 52,\n",
      " 'State': 'Ohio',\n",
      " '_id': ObjectId('647b4086535d0c5fcf556ee3')}\n"
     ]
    }
   ],
   "source": [
    "# Create a query that finds the documents where the \"State\" is \"Ohio\" in the annual_aqi_by_county collection \n",
    "# and returns only the \"County,\" \"State,\" \"Days with AQI,\" and \"Max AQI\" fields\n",
    "query1 = {'State': 'Ohio'}\n",
    "\n",
    "# Capture the results to a variable\n",
    "fields1 = {'County':1, 'COUNTY':1, 'State':1, 'Days with AQI':1,'Max AQI':1}\n",
    "\n",
    "# Pretty print the first two results\n",
    "result1 = annual_aqi_by_county.find(query1, fields1)\n",
    "# Pretty print the first two results\n",
    "for k in range(2):\n",
    "    pprint(result1[k])\n",
    "\n",
    "\n",
    "\n",
    "\n",
    "\n"
   ]
  },
  {
   "cell_type": "code",
   "execution_count": null,
   "id": "64d669de",
   "metadata": {},
   "outputs": [],
   "source": []
  }
 ],
 "metadata": {
  "kernelspec": {
   "display_name": "Python (pythondata)",
   "language": "python",
   "name": "pythondata"
  },
  "language_info": {
   "codemirror_mode": {
    "name": "ipython",
    "version": 3
   },
   "file_extension": ".py",
   "mimetype": "text/x-python",
   "name": "python",
   "nbconvert_exporter": "python",
   "pygments_lexer": "ipython3",
   "version": "3.11.3"
  }
 },
 "nbformat": 4,
 "nbformat_minor": 5
}
