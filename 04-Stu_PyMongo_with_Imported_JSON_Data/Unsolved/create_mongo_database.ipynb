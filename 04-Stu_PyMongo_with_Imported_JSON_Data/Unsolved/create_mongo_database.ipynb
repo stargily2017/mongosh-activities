{
 "cells": [
  {
   "attachments": {},
   "cell_type": "markdown",
   "id": "f30978cf",
   "metadata": {},
   "source": [
    "# Create a Mongo Database"
   ]
  },
  {
   "cell_type": "code",
   "execution_count": 8,
   "id": "d5aca895",
   "metadata": {},
   "outputs": [],
   "source": [
    "from pymongo import MongoClient\n",
    "from pprint import pprint"
   ]
  },
  {
   "cell_type": "code",
   "execution_count": 9,
   "id": "a093c3fd",
   "metadata": {},
   "outputs": [],
   "source": [
    "# Create an instance of MongoClient\n",
    "mongo = MongoClient(port=27017)"
   ]
  },
  {
   "cell_type": "code",
   "execution_count": 10,
   "id": "7975c76f",
   "metadata": {},
   "outputs": [
    {
     "name": "stdout",
     "output_type": "stream",
     "text": [
      "['admin', 'classDB', 'config', 'epa', 'fruits_db', 'garden_db', 'local', 'petsitly_marketing']\n"
     ]
    }
   ],
   "source": [
    "# confirm that our new database was created\n",
    "print(mongo.list_database_names())"
   ]
  },
  {
   "cell_type": "code",
   "execution_count": 11,
   "id": "575e1b57",
   "metadata": {},
   "outputs": [],
   "source": [
    "# assign the petsitly_marketing database to a variable name\n",
    "# assign the database to a variable name\n",
    "db = mongo['petsitly_marketing']"
   ]
  },
  {
   "cell_type": "code",
   "execution_count": 12,
   "id": "a6184d52",
   "metadata": {},
   "outputs": [
    {
     "name": "stdout",
     "output_type": "stream",
     "text": [
      "['customer_list']\n"
     ]
    }
   ],
   "source": [
    "# List the names of the collections in the database. \n",
    "# Be sure to use the variable name you assigned to your database to do this.\n",
    "print(db.list_collection_names())"
   ]
  },
  {
   "cell_type": "code",
   "execution_count": 13,
   "id": "b703c673",
   "metadata": {},
   "outputs": [
    {
     "name": "stdout",
     "output_type": "stream",
     "text": [
      "{'2021_Total_Spend': 379.5,\n",
      " '2021_Visits': 22,\n",
      " 'Address': '8770 Heather Shores Apt. 087',\n",
      " 'Customer_First': 'Jeanetta',\n",
      " 'Customer_Last': 'Bednar',\n",
      " 'Email': 'alan24@yahoo.com',\n",
      " 'Pet_Type': 'dog',\n",
      " '_id': ObjectId('647b3ec2f75532819b5f78bc')}\n"
     ]
    }
   ],
   "source": [
    "# review a document in the customer_list collection\n",
    "pprint(db.customer_list.find_one())"
   ]
  },
  {
   "cell_type": "code",
   "execution_count": 14,
   "id": "c78ee54e",
   "metadata": {},
   "outputs": [],
   "source": [
    "# assign the collection to a variable\n",
    "customer_list = db['customer_list']"
   ]
  },
  {
   "cell_type": "code",
   "execution_count": 20,
   "id": "8d1342df",
   "metadata": {},
   "outputs": [
    {
     "data": {
      "text/plain": [
       "<pymongo.results.InsertOneResult at 0x2e4337e4d40>"
      ]
     },
     "execution_count": 20,
     "metadata": {},
     "output_type": "execute_result"
    }
   ],
   "source": [
    "# insert a new customer\n",
    "new_customer = {'_id':3, 'Customer_First': 'Data', 'Customer_Last': 'Viz', \n",
    "                'Address': '55882 Valley Fields Dr', 'Email': 'dataviz@bootcamp.edu', \n",
    "                '2021_Visits': 75, '2021_Total_Spend': 2017.75, 'Pet_Type': 'cat'}\n",
    "customer_list.insert_one(new_customer)\n"
   ]
  },
  {
   "cell_type": "code",
   "execution_count": 21,
   "id": "30dad3e5",
   "metadata": {},
   "outputs": [
    {
     "name": "stdout",
     "output_type": "stream",
     "text": [
      "{'2021_Total_Spend': 2017.75,\n",
      " '2021_Visits': 75,\n",
      " 'Address': '55882 Valley Fields Dr',\n",
      " 'Customer_First': 'Data',\n",
      " 'Customer_Last': 'Viz',\n",
      " 'Email': 'dataviz@bootcamp.edu',\n",
      " 'Pet_Type': 'cat',\n",
      " '_id': 3}\n"
     ]
    }
   ],
   "source": [
    "# Filter results by name (run this cell)\n",
    "query = {'Customer_First': 'Data'}\n",
    "results = customer_list.find(query)\n",
    "for result in results:\n",
    "    pprint(result)"
   ]
  },
  {
   "cell_type": "code",
   "execution_count": 22,
   "id": "e1c4c3e8",
   "metadata": {},
   "outputs": [],
   "source": [
    "# Find the number of customers with turtles\n",
    "query = {'pet_type': 'turtle'}\n",
    "results = customer_list.find(query)\n",
    "\n",
    "for result in results:\n",
    "    pprint(result)"
   ]
  },
  {
   "attachments": {},
   "cell_type": "markdown",
   "id": "88bca31a",
   "metadata": {},
   "source": [
    "### Bonus: Try running queries to practice deleting entities from a Mongo database."
   ]
  },
  {
   "cell_type": "code",
   "execution_count": 23,
   "id": "f9af9fa4",
   "metadata": {},
   "outputs": [],
   "source": [
    "# Delete all the customers who have hamsters\n",
    "\n",
    "customer_list.delete_many(query)\n",
    "results = customer_list.find(query)\n",
    "\n",
    "for result in results:\n",
    "    print(result)"
   ]
  },
  {
   "cell_type": "code",
   "execution_count": 12,
   "id": "9ac83916",
   "metadata": {},
   "outputs": [
    {
     "data": {
      "text/plain": [
       "[]"
      ]
     },
     "execution_count": 12,
     "metadata": {},
     "output_type": "execute_result"
    }
   ],
   "source": [
    "# Delete a collection\n"
   ]
  },
  {
   "cell_type": "code",
   "execution_count": 13,
   "id": "7a6a6c16",
   "metadata": {},
   "outputs": [
    {
     "data": {
      "text/plain": [
       "['admin', 'class_db', 'config', 'local']"
      ]
     },
     "execution_count": 13,
     "metadata": {},
     "output_type": "execute_result"
    }
   ],
   "source": [
    "# Delete the database\n"
   ]
  },
  {
   "cell_type": "code",
   "execution_count": null,
   "id": "cc4170a7",
   "metadata": {},
   "outputs": [],
   "source": []
  }
 ],
 "metadata": {
  "kernelspec": {
   "display_name": "Python (pythondata)",
   "language": "python",
   "name": "pythondata"
  },
  "language_info": {
   "codemirror_mode": {
    "name": "ipython",
    "version": 3
   },
   "file_extension": ".py",
   "mimetype": "text/x-python",
   "name": "python",
   "nbconvert_exporter": "python",
   "pygments_lexer": "ipython3",
   "version": "3.11.3"
  }
 },
 "nbformat": 4,
 "nbformat_minor": 5
}
